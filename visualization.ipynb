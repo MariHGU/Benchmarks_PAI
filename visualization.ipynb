{
 "cells": [
  {
   "cell_type": "markdown",
   "id": "b7b6d3c2",
   "metadata": {},
   "source": [
    "<h1>Visualizations of results from modeltesting</h1>"
   ]
  },
  {
   "cell_type": "code",
   "execution_count": 18,
   "id": "6be930a0",
   "metadata": {},
   "outputs": [
    {
     "data": {
      "application/vnd.plotly.v1+json": {
       "config": {
        "plotlyServerURL": "https://plot.ly"
       },
       "data": [
        {
         "hovertemplate": "Language: %{x}<br>Total: %{y}<extra></extra>",
         "marker": {
          "color": "lightslategray"
         },
         "name": "Total Occurrences",
         "type": "bar",
         "x": [
          "sql",
          "py",
          "json",
          "txt",
          "sh",
          "go",
          "java",
          "js",
          "rb",
          "cs",
          "cpp",
          "xml",
          "c",
          "ts",
          "yml",
          "xsl",
          "xslt",
          "kt",
          "html",
          "css"
         ],
         "y": [
          38,
          37,
          34,
          38,
          33,
          35,
          34,
          33,
          35,
          35,
          34,
          4,
          2,
          1,
          1,
          1,
          1,
          1,
          1,
          1
         ]
        },
        {
         "hovertemplate": "Language: %{x}<br>Containing errors: %{y}<extra></extra>",
         "marker": {
          "color": "#00A77E"
         },
         "name": "Models with Language Errors",
         "type": "bar",
         "x": [
          "go",
          "java",
          "rb",
          "sql",
          "cs",
          "py",
          "json",
          "css",
          "kt",
          "sh",
          "ts",
          "xml",
          "yml",
          "cpp",
          "js"
         ],
         "y": [
          14,
          34,
          2,
          19,
          14,
          5,
          1,
          1,
          1,
          1,
          1,
          1,
          1,
          3,
          1
         ]
        }
       ],
       "layout": {
        "barmode": "overlay",
        "height": 600,
        "template": {
         "data": {
          "bar": [
           {
            "error_x": {
             "color": "#2a3f5f"
            },
            "error_y": {
             "color": "#2a3f5f"
            },
            "marker": {
             "line": {
              "color": "#E5ECF6",
              "width": 0.5
             },
             "pattern": {
              "fillmode": "overlay",
              "size": 10,
              "solidity": 0.2
             }
            },
            "type": "bar"
           }
          ],
          "barpolar": [
           {
            "marker": {
             "line": {
              "color": "#E5ECF6",
              "width": 0.5
             },
             "pattern": {
              "fillmode": "overlay",
              "size": 10,
              "solidity": 0.2
             }
            },
            "type": "barpolar"
           }
          ],
          "carpet": [
           {
            "aaxis": {
             "endlinecolor": "#2a3f5f",
             "gridcolor": "white",
             "linecolor": "white",
             "minorgridcolor": "white",
             "startlinecolor": "#2a3f5f"
            },
            "baxis": {
             "endlinecolor": "#2a3f5f",
             "gridcolor": "white",
             "linecolor": "white",
             "minorgridcolor": "white",
             "startlinecolor": "#2a3f5f"
            },
            "type": "carpet"
           }
          ],
          "choropleth": [
           {
            "colorbar": {
             "outlinewidth": 0,
             "ticks": ""
            },
            "type": "choropleth"
           }
          ],
          "contour": [
           {
            "colorbar": {
             "outlinewidth": 0,
             "ticks": ""
            },
            "colorscale": [
             [
              0,
              "#0d0887"
             ],
             [
              0.1111111111111111,
              "#46039f"
             ],
             [
              0.2222222222222222,
              "#7201a8"
             ],
             [
              0.3333333333333333,
              "#9c179e"
             ],
             [
              0.4444444444444444,
              "#bd3786"
             ],
             [
              0.5555555555555556,
              "#d8576b"
             ],
             [
              0.6666666666666666,
              "#ed7953"
             ],
             [
              0.7777777777777778,
              "#fb9f3a"
             ],
             [
              0.8888888888888888,
              "#fdca26"
             ],
             [
              1,
              "#f0f921"
             ]
            ],
            "type": "contour"
           }
          ],
          "contourcarpet": [
           {
            "colorbar": {
             "outlinewidth": 0,
             "ticks": ""
            },
            "type": "contourcarpet"
           }
          ],
          "heatmap": [
           {
            "colorbar": {
             "outlinewidth": 0,
             "ticks": ""
            },
            "colorscale": [
             [
              0,
              "#0d0887"
             ],
             [
              0.1111111111111111,
              "#46039f"
             ],
             [
              0.2222222222222222,
              "#7201a8"
             ],
             [
              0.3333333333333333,
              "#9c179e"
             ],
             [
              0.4444444444444444,
              "#bd3786"
             ],
             [
              0.5555555555555556,
              "#d8576b"
             ],
             [
              0.6666666666666666,
              "#ed7953"
             ],
             [
              0.7777777777777778,
              "#fb9f3a"
             ],
             [
              0.8888888888888888,
              "#fdca26"
             ],
             [
              1,
              "#f0f921"
             ]
            ],
            "type": "heatmap"
           }
          ],
          "histogram": [
           {
            "marker": {
             "pattern": {
              "fillmode": "overlay",
              "size": 10,
              "solidity": 0.2
             }
            },
            "type": "histogram"
           }
          ],
          "histogram2d": [
           {
            "colorbar": {
             "outlinewidth": 0,
             "ticks": ""
            },
            "colorscale": [
             [
              0,
              "#0d0887"
             ],
             [
              0.1111111111111111,
              "#46039f"
             ],
             [
              0.2222222222222222,
              "#7201a8"
             ],
             [
              0.3333333333333333,
              "#9c179e"
             ],
             [
              0.4444444444444444,
              "#bd3786"
             ],
             [
              0.5555555555555556,
              "#d8576b"
             ],
             [
              0.6666666666666666,
              "#ed7953"
             ],
             [
              0.7777777777777778,
              "#fb9f3a"
             ],
             [
              0.8888888888888888,
              "#fdca26"
             ],
             [
              1,
              "#f0f921"
             ]
            ],
            "type": "histogram2d"
           }
          ],
          "histogram2dcontour": [
           {
            "colorbar": {
             "outlinewidth": 0,
             "ticks": ""
            },
            "colorscale": [
             [
              0,
              "#0d0887"
             ],
             [
              0.1111111111111111,
              "#46039f"
             ],
             [
              0.2222222222222222,
              "#7201a8"
             ],
             [
              0.3333333333333333,
              "#9c179e"
             ],
             [
              0.4444444444444444,
              "#bd3786"
             ],
             [
              0.5555555555555556,
              "#d8576b"
             ],
             [
              0.6666666666666666,
              "#ed7953"
             ],
             [
              0.7777777777777778,
              "#fb9f3a"
             ],
             [
              0.8888888888888888,
              "#fdca26"
             ],
             [
              1,
              "#f0f921"
             ]
            ],
            "type": "histogram2dcontour"
           }
          ],
          "mesh3d": [
           {
            "colorbar": {
             "outlinewidth": 0,
             "ticks": ""
            },
            "type": "mesh3d"
           }
          ],
          "parcoords": [
           {
            "line": {
             "colorbar": {
              "outlinewidth": 0,
              "ticks": ""
             }
            },
            "type": "parcoords"
           }
          ],
          "pie": [
           {
            "automargin": true,
            "type": "pie"
           }
          ],
          "scatter": [
           {
            "fillpattern": {
             "fillmode": "overlay",
             "size": 10,
             "solidity": 0.2
            },
            "type": "scatter"
           }
          ],
          "scatter3d": [
           {
            "line": {
             "colorbar": {
              "outlinewidth": 0,
              "ticks": ""
             }
            },
            "marker": {
             "colorbar": {
              "outlinewidth": 0,
              "ticks": ""
             }
            },
            "type": "scatter3d"
           }
          ],
          "scattercarpet": [
           {
            "marker": {
             "colorbar": {
              "outlinewidth": 0,
              "ticks": ""
             }
            },
            "type": "scattercarpet"
           }
          ],
          "scattergeo": [
           {
            "marker": {
             "colorbar": {
              "outlinewidth": 0,
              "ticks": ""
             }
            },
            "type": "scattergeo"
           }
          ],
          "scattergl": [
           {
            "marker": {
             "colorbar": {
              "outlinewidth": 0,
              "ticks": ""
             }
            },
            "type": "scattergl"
           }
          ],
          "scattermap": [
           {
            "marker": {
             "colorbar": {
              "outlinewidth": 0,
              "ticks": ""
             }
            },
            "type": "scattermap"
           }
          ],
          "scattermapbox": [
           {
            "marker": {
             "colorbar": {
              "outlinewidth": 0,
              "ticks": ""
             }
            },
            "type": "scattermapbox"
           }
          ],
          "scatterpolar": [
           {
            "marker": {
             "colorbar": {
              "outlinewidth": 0,
              "ticks": ""
             }
            },
            "type": "scatterpolar"
           }
          ],
          "scatterpolargl": [
           {
            "marker": {
             "colorbar": {
              "outlinewidth": 0,
              "ticks": ""
             }
            },
            "type": "scatterpolargl"
           }
          ],
          "scatterternary": [
           {
            "marker": {
             "colorbar": {
              "outlinewidth": 0,
              "ticks": ""
             }
            },
            "type": "scatterternary"
           }
          ],
          "surface": [
           {
            "colorbar": {
             "outlinewidth": 0,
             "ticks": ""
            },
            "colorscale": [
             [
              0,
              "#0d0887"
             ],
             [
              0.1111111111111111,
              "#46039f"
             ],
             [
              0.2222222222222222,
              "#7201a8"
             ],
             [
              0.3333333333333333,
              "#9c179e"
             ],
             [
              0.4444444444444444,
              "#bd3786"
             ],
             [
              0.5555555555555556,
              "#d8576b"
             ],
             [
              0.6666666666666666,
              "#ed7953"
             ],
             [
              0.7777777777777778,
              "#fb9f3a"
             ],
             [
              0.8888888888888888,
              "#fdca26"
             ],
             [
              1,
              "#f0f921"
             ]
            ],
            "type": "surface"
           }
          ],
          "table": [
           {
            "cells": {
             "fill": {
              "color": "#EBF0F8"
             },
             "line": {
              "color": "white"
             }
            },
            "header": {
             "fill": {
              "color": "#C8D4E3"
             },
             "line": {
              "color": "white"
             }
            },
            "type": "table"
           }
          ]
         },
         "layout": {
          "annotationdefaults": {
           "arrowcolor": "#2a3f5f",
           "arrowhead": 0,
           "arrowwidth": 1
          },
          "autotypenumbers": "strict",
          "coloraxis": {
           "colorbar": {
            "outlinewidth": 0,
            "ticks": ""
           }
          },
          "colorscale": {
           "diverging": [
            [
             0,
             "#8e0152"
            ],
            [
             0.1,
             "#c51b7d"
            ],
            [
             0.2,
             "#de77ae"
            ],
            [
             0.3,
             "#f1b6da"
            ],
            [
             0.4,
             "#fde0ef"
            ],
            [
             0.5,
             "#f7f7f7"
            ],
            [
             0.6,
             "#e6f5d0"
            ],
            [
             0.7,
             "#b8e186"
            ],
            [
             0.8,
             "#7fbc41"
            ],
            [
             0.9,
             "#4d9221"
            ],
            [
             1,
             "#276419"
            ]
           ],
           "sequential": [
            [
             0,
             "#0d0887"
            ],
            [
             0.1111111111111111,
             "#46039f"
            ],
            [
             0.2222222222222222,
             "#7201a8"
            ],
            [
             0.3333333333333333,
             "#9c179e"
            ],
            [
             0.4444444444444444,
             "#bd3786"
            ],
            [
             0.5555555555555556,
             "#d8576b"
            ],
            [
             0.6666666666666666,
             "#ed7953"
            ],
            [
             0.7777777777777778,
             "#fb9f3a"
            ],
            [
             0.8888888888888888,
             "#fdca26"
            ],
            [
             1,
             "#f0f921"
            ]
           ],
           "sequentialminus": [
            [
             0,
             "#0d0887"
            ],
            [
             0.1111111111111111,
             "#46039f"
            ],
            [
             0.2222222222222222,
             "#7201a8"
            ],
            [
             0.3333333333333333,
             "#9c179e"
            ],
            [
             0.4444444444444444,
             "#bd3786"
            ],
            [
             0.5555555555555556,
             "#d8576b"
            ],
            [
             0.6666666666666666,
             "#ed7953"
            ],
            [
             0.7777777777777778,
             "#fb9f3a"
            ],
            [
             0.8888888888888888,
             "#fdca26"
            ],
            [
             1,
             "#f0f921"
            ]
           ]
          },
          "colorway": [
           "#636efa",
           "#EF553B",
           "#00cc96",
           "#ab63fa",
           "#FFA15A",
           "#19d3f3",
           "#FF6692",
           "#B6E880",
           "#FF97FF",
           "#FECB52"
          ],
          "font": {
           "color": "#2a3f5f"
          },
          "geo": {
           "bgcolor": "white",
           "lakecolor": "white",
           "landcolor": "#E5ECF6",
           "showlakes": true,
           "showland": true,
           "subunitcolor": "white"
          },
          "hoverlabel": {
           "align": "left"
          },
          "hovermode": "closest",
          "mapbox": {
           "style": "light"
          },
          "paper_bgcolor": "white",
          "plot_bgcolor": "#E5ECF6",
          "polar": {
           "angularaxis": {
            "gridcolor": "white",
            "linecolor": "white",
            "ticks": ""
           },
           "bgcolor": "#E5ECF6",
           "radialaxis": {
            "gridcolor": "white",
            "linecolor": "white",
            "ticks": ""
           }
          },
          "scene": {
           "xaxis": {
            "backgroundcolor": "#E5ECF6",
            "gridcolor": "white",
            "gridwidth": 2,
            "linecolor": "white",
            "showbackground": true,
            "ticks": "",
            "zerolinecolor": "white"
           },
           "yaxis": {
            "backgroundcolor": "#E5ECF6",
            "gridcolor": "white",
            "gridwidth": 2,
            "linecolor": "white",
            "showbackground": true,
            "ticks": "",
            "zerolinecolor": "white"
           },
           "zaxis": {
            "backgroundcolor": "#E5ECF6",
            "gridcolor": "white",
            "gridwidth": 2,
            "linecolor": "white",
            "showbackground": true,
            "ticks": "",
            "zerolinecolor": "white"
           }
          },
          "shapedefaults": {
           "line": {
            "color": "#2a3f5f"
           }
          },
          "ternary": {
           "aaxis": {
            "gridcolor": "white",
            "linecolor": "white",
            "ticks": ""
           },
           "baxis": {
            "gridcolor": "white",
            "linecolor": "white",
            "ticks": ""
           },
           "bgcolor": "#E5ECF6",
           "caxis": {
            "gridcolor": "white",
            "linecolor": "white",
            "ticks": ""
           }
          },
          "title": {
           "x": 0.05
          },
          "xaxis": {
           "automargin": true,
           "gridcolor": "white",
           "linecolor": "white",
           "ticks": "",
           "title": {
            "standoff": 15
           },
           "zerolinecolor": "white",
           "zerolinewidth": 2
          },
          "yaxis": {
           "automargin": true,
           "gridcolor": "white",
           "linecolor": "white",
           "ticks": "",
           "title": {
            "standoff": 15
           },
           "zerolinecolor": "white",
           "zerolinewidth": 2
          }
         }
        },
        "title": {
         "text": "Total occurrences vs Language Errors in Models"
        },
        "width": 1000,
        "xaxis": {
         "title": {
          "text": "Language"
         }
        },
        "yaxis": {
         "title": {
          "text": "Number of Models"
         }
        }
       }
      }
     },
     "metadata": {},
     "output_type": "display_data"
    }
   ],
   "source": [
    "import os\n",
    "from pathlib import Path\n",
    "import matplotlib.pyplot as plt\n",
    "import plotly.express as px\n",
    "import plotly.graph_objects as go\n",
    "import pandas as pd\n",
    "\n",
    "df = pd.read_csv('results/avg_results.csv')\n",
    "df_results = pd.read_csv('results/results.csv')\n",
    "averaged_df = df.groupby('Model', as_index=False)[['Average time[s]', 'Average tokens/s']].mean()\n",
    "\n",
    "lang_error_dict = {}\n",
    "\n",
    "lang_counts = df[df['Inteded purpose'] == 'coding']['Language errors'].value_counts()\n",
    "lang_error = df_results['results'].str.split(',').reset_index(drop=True)\n",
    "\n",
    "for lang_list in lang_error:\n",
    "    for lang in lang_list:\n",
    "        if lang not in lang_error_dict:\n",
    "            lang_error_dict[lang] = 0\n",
    "        lang_error_dict[lang] += 1\n",
    "        \n",
    "\n",
    "# Retrieve language with most errors\n",
    "max_index = max(lang_error_dict, key=lang_error_dict.get)\n",
    "colors = ['#00A77E',] * len(lang_error_dict)\n",
    "max_pos = list(lang_error_dict.keys()).index(max_index)\n",
    "colors[max_pos] = 'lightslategray'\n",
    "\n",
    "# Count number models with atleast one appearence of each language\n",
    "lang_occurences = {}\n",
    "models = os.listdir('output')\n",
    "for model in models:\n",
    "    path = Path('output') / model\n",
    "    code_snippets = os.listdir(path)\n",
    "    languages_in_model = set()\n",
    "    for code_snippet in code_snippets:\n",
    "        if code_snippet.endswith('go'):\n",
    "            lang = 'go'\n",
    "            go_codes = os.listdir(path / code_snippet)\n",
    "            for go_code in go_codes:\n",
    "                if lang not in lang_occurences:\n",
    "                    lang_occurences[lang] = 0\n",
    "                if lang not in languages_in_model:\n",
    "                    languages_in_model.add(lang)\n",
    "                    lang_occurences[lang] += 1\n",
    "        else:\n",
    "            lang = code_snippet.split('.')[1]\n",
    "            if lang not in lang_occurences:\n",
    "                lang_occurences[lang] = 0\n",
    "            if lang not in languages_in_model:\n",
    "                languages_in_model.add(lang)\n",
    "                lang_occurences[lang] += 1\n",
    "\n",
    "\n",
    "# Plot total models containing language vs models with language errors\n",
    "fig = go.Figure()\n",
    "\n",
    "fig.add_trace(go.Bar(\n",
    "    x=list(lang_occurences.keys()),\n",
    "    y=list(lang_occurences.values()),\n",
    "    name='Total Occurrences',\n",
    "    hovertemplate='Language: %{x}<br>Total: %{y}<extra></extra>',\n",
    "    marker_color='lightslategray'\n",
    "))\n",
    "\n",
    "fig.add_trace(go.Bar(\n",
    "    x=list(lang_error_dict.keys()),\n",
    "    y=list(lang_error_dict.values()),\n",
    "    name='Models with Language Errors',\n",
    "    hovertemplate='Language: %{x}<br>Containing errors: %{y}<extra></extra>',\n",
    "    marker_color='#00A77E'\n",
    "))\n",
    "\n",
    "fig.update_layout(\n",
    "    barmode='overlay',\n",
    "    xaxis_title='Language',\n",
    "    yaxis_title='Number of Models',\n",
    "    title='Total occurrences vs Language Errors in Models',\n",
    "    width=1000,\n",
    "    height=600\n",
    ")\n",
    "fig.show()\n",
    "fig.write_html('results/language_errors.html')\n"
   ]
  },
  {
   "cell_type": "markdown",
   "id": "6c86a487",
   "metadata": {},
   "source": [
    "> *Note*: Java will almost always contain 'syntax-errors', due to its strict syntax rules. It will not compile if for instance a class is defined, but the file is not named after the class. This is not inheritently a problem with the model, but rather a limitation of syntax-checking the language itself."
   ]
  },
  {
   "cell_type": "code",
   "execution_count": 19,
   "id": "a78cd52e",
   "metadata": {},
   "outputs": [
    {
     "data": {
      "application/vnd.plotly.v1+json": {
       "config": {
        "plotlyServerURL": "https://plot.ly"
       },
       "data": [
        {
         "hovertemplate": "<b>%{hovertext}</b><br><br>Model=codellama:34b<br>Average time[s]=%{x}<br>Average tokens/s=%{y}<extra></extra>",
         "hovertext": [
          "codellama:34b"
         ],
         "legendgroup": "codellama:34b",
         "marker": {
          "color": "#636efa",
          "opacity": 0.7,
          "size": 12,
          "symbol": "circle"
         },
         "mode": "markers",
         "name": "codellama:34b",
         "orientation": "v",
         "showlegend": true,
         "type": "scatter",
         "x": {
          "bdata": "4XoUrkchFUA=",
          "dtype": "f8"
         },
         "xaxis": "x",
         "y": {
          "bdata": "HHxhMlWwUkA=",
          "dtype": "f8"
         },
         "yaxis": "y"
        },
        {
         "hovertemplate": "<b>%{hovertext}</b><br><br>Model=codeqwen:chat<br>Average time[s]=%{x}<br>Average tokens/s=%{y}<extra></extra>",
         "hovertext": [
          "codeqwen:chat"
         ],
         "legendgroup": "codeqwen:chat",
         "marker": {
          "color": "#EF553B",
          "opacity": 0.7,
          "size": 12,
          "symbol": "circle"
         },
         "mode": "markers",
         "name": "codeqwen:chat",
         "orientation": "v",
         "showlegend": true,
         "type": "scatter",
         "x": {
          "bdata": "woanV8qyDkA=",
          "dtype": "f8"
         },
         "xaxis": "x",
         "y": {
          "bdata": "845TdCRNZ0A=",
          "dtype": "f8"
         },
         "yaxis": "y"
        },
        {
         "hovertemplate": "<b>%{hovertext}</b><br><br>Model=codestral:22b<br>Average time[s]=%{x}<br>Average tokens/s=%{y}<extra></extra>",
         "hovertext": [
          "codestral:22b"
         ],
         "legendgroup": "codestral:22b",
         "marker": {
          "color": "#00cc96",
          "opacity": 0.7,
          "size": 12,
          "symbol": "circle"
         },
         "mode": "markers",
         "name": "codestral:22b",
         "orientation": "v",
         "showlegend": true,
         "type": "scatter",
         "x": {
          "bdata": "rthfdk9eFUA=",
          "dtype": "f8"
         },
         "xaxis": "x",
         "y": {
          "bdata": "BFYOLbL5VkA=",
          "dtype": "f8"
         },
         "yaxis": "y"
        },
        {
         "hovertemplate": "<b>%{hovertext}</b><br><br>Model=codestral:22b-v0.1-q5_0<br>Average time[s]=%{x}<br>Average tokens/s=%{y}<extra></extra>",
         "hovertext": [
          "codestral:22b-v0.1-q5_0"
         ],
         "legendgroup": "codestral:22b-v0.1-q5_0",
         "marker": {
          "color": "#ab63fa",
          "opacity": 0.7,
          "size": 12,
          "symbol": "circle"
         },
         "mode": "markers",
         "name": "codestral:22b-v0.1-q5_0",
         "orientation": "v",
         "showlegend": true,
         "type": "scatter",
         "x": {
          "bdata": "xY8xdy2hF0A=",
          "dtype": "f8"
         },
         "xaxis": "x",
         "y": {
          "bdata": "v30dOGfcUkA=",
          "dtype": "f8"
         },
         "yaxis": "y"
        },
        {
         "hovertemplate": "<b>%{hovertext}</b><br><br>Model=cogito:14b<br>Average time[s]=%{x}<br>Average tokens/s=%{y}<extra></extra>",
         "hovertext": [
          "cogito:14b"
         ],
         "legendgroup": "cogito:14b",
         "marker": {
          "color": "#FFA15A",
          "opacity": 0.7,
          "size": 12,
          "symbol": "circle"
         },
         "mode": "markers",
         "name": "cogito:14b",
         "orientation": "v",
         "showlegend": true,
         "type": "scatter",
         "x": {
          "bdata": "FYxK6gT0GkA=",
          "dtype": "f8"
         },
         "xaxis": "x",
         "y": {
          "bdata": "Dk+vlGXwV0A=",
          "dtype": "f8"
         },
         "yaxis": "y"
        },
        {
         "hovertemplate": "<b>%{hovertext}</b><br><br>Model=cogito:32b<br>Average time[s]=%{x}<br>Average tokens/s=%{y}<extra></extra>",
         "hovertext": [
          "cogito:32b"
         ],
         "legendgroup": "cogito:32b",
         "marker": {
          "color": "#19d3f3",
          "opacity": 0.7,
          "size": 12,
          "symbol": "circle"
         },
         "mode": "markers",
         "name": "cogito:32b",
         "orientation": "v",
         "showlegend": true,
         "type": "scatter",
         "x": {
          "bdata": "AAAAAAAALUA=",
          "dtype": "f8"
         },
         "xaxis": "x",
         "y": {
          "bdata": "AAAAAAAAP0A=",
          "dtype": "f8"
         },
         "yaxis": "y"
        },
        {
         "hovertemplate": "<b>%{hovertext}</b><br><br>Model=cogito:32b-v1-preview-qwen-fp16<br>Average time[s]=%{x}<br>Average tokens/s=%{y}<extra></extra>",
         "hovertext": [
          "cogito:32b-v1-preview-qwen-fp16"
         ],
         "legendgroup": "cogito:32b-v1-preview-qwen-fp16",
         "marker": {
          "color": "#FF6692",
          "opacity": 0.7,
          "size": 12,
          "symbol": "circle"
         },
         "mode": "markers",
         "name": "cogito:32b-v1-preview-qwen-fp16",
         "orientation": "v",
         "showlegend": true,
         "type": "scatter",
         "x": {
          "bdata": "rK3YX3ZXMEA=",
          "dtype": "f8"
         },
         "xaxis": "x",
         "y": {
          "bdata": "5tAi2/kmPkA=",
          "dtype": "f8"
         },
         "yaxis": "y"
        },
        {
         "hovertemplate": "<b>%{hovertext}</b><br><br>Model=cogito:70b<br>Average time[s]=%{x}<br>Average tokens/s=%{y}<extra></extra>",
         "hovertext": [
          "cogito:70b"
         ],
         "legendgroup": "cogito:70b",
         "marker": {
          "color": "#B6E880",
          "opacity": 0.7,
          "size": 12,
          "symbol": "circle"
         },
         "mode": "markers",
         "name": "cogito:70b",
         "orientation": "v",
         "showlegend": true,
         "type": "scatter",
         "x": {
          "bdata": "AAAAAAAAM0A=",
          "dtype": "f8"
         },
         "xaxis": "x",
         "y": {
          "bdata": "AAAAAAAAO0A=",
          "dtype": "f8"
         },
         "yaxis": "y"
        },
        {
         "hovertemplate": "<b>%{hovertext}</b><br><br>Model=cogito:70b-v1-preview-llama-q8_0<br>Average time[s]=%{x}<br>Average tokens/s=%{y}<extra></extra>",
         "hovertext": [
          "cogito:70b-v1-preview-llama-q8_0"
         ],
         "legendgroup": "cogito:70b-v1-preview-llama-q8_0",
         "marker": {
          "color": "#FF97FF",
          "opacity": 0.7,
          "size": 12,
          "symbol": "circle"
         },
         "mode": "markers",
         "name": "cogito:70b-v1-preview-llama-q8_0",
         "orientation": "v",
         "showlegend": true,
         "type": "scatter",
         "x": {
          "bdata": "AAAAAACANEA=",
          "dtype": "f8"
         },
         "xaxis": "x",
         "y": {
          "bdata": "AAAAAAAAOkA=",
          "dtype": "f8"
         },
         "yaxis": "y"
        },
        {
         "hovertemplate": "<b>%{hovertext}</b><br><br>Model=deepseek-r1:32b-qwen-distill-fp16<br>Average time[s]=%{x}<br>Average tokens/s=%{y}<extra></extra>",
         "hovertext": [
          "deepseek-r1:32b-qwen-distill-fp16"
         ],
         "legendgroup": "deepseek-r1:32b-qwen-distill-fp16",
         "marker": {
          "color": "#FECB52",
          "opacity": 0.7,
          "size": 12,
          "symbol": "circle"
         },
         "mode": "markers",
         "name": "deepseek-r1:32b-qwen-distill-fp16",
         "orientation": "v",
         "showlegend": true,
         "type": "scatter",
         "x": {
          "bdata": "si5uowHUQUA=",
          "dtype": "f8"
         },
         "xaxis": "x",
         "y": {
          "bdata": "qRPQRNgIP0A=",
          "dtype": "f8"
         },
         "yaxis": "y"
        },
        {
         "hovertemplate": "<b>%{hovertext}</b><br><br>Model=deepseek-r1:70b-llama-distill-q8_0<br>Average time[s]=%{x}<br>Average tokens/s=%{y}<extra></extra>",
         "hovertext": [
          "deepseek-r1:70b-llama-distill-q8_0"
         ],
         "legendgroup": "deepseek-r1:70b-llama-distill-q8_0",
         "marker": {
          "color": "#636efa",
          "opacity": 0.7,
          "size": 12,
          "symbol": "circle"
         },
         "mode": "markers",
         "name": "deepseek-r1:70b-llama-distill-q8_0",
         "orientation": "v",
         "showlegend": true,
         "type": "scatter",
         "x": {
          "bdata": "zTtO0ZEwSEA=",
          "dtype": "f8"
         },
         "xaxis": "x",
         "y": {
          "bdata": "lrIMcayTOUA=",
          "dtype": "f8"
         },
         "yaxis": "y"
        },
        {
         "hovertemplate": "<b>%{hovertext}</b><br><br>Model=devstral:24b-small-2505-fp16<br>Average time[s]=%{x}<br>Average tokens/s=%{y}<extra></extra>",
         "hovertext": [
          "devstral:24b-small-2505-fp16"
         ],
         "legendgroup": "devstral:24b-small-2505-fp16",
         "marker": {
          "color": "#EF553B",
          "opacity": 0.7,
          "size": 12,
          "symbol": "circle"
         },
         "mode": "markers",
         "name": "devstral:24b-small-2505-fp16",
         "orientation": "v",
         "showlegend": true,
         "type": "scatter",
         "x": {
          "bdata": "9bnaiv39MkA=",
          "dtype": "f8"
         },
         "xaxis": "x",
         "y": {
          "bdata": "KO0NvjBNREA=",
          "dtype": "f8"
         },
         "yaxis": "y"
        },
        {
         "hovertemplate": "<b>%{hovertext}</b><br><br>Model=devstral:24b-small-2505-q8_0<br>Average time[s]=%{x}<br>Average tokens/s=%{y}<extra></extra>",
         "hovertext": [
          "devstral:24b-small-2505-q8_0"
         ],
         "legendgroup": "devstral:24b-small-2505-q8_0",
         "marker": {
          "color": "#00cc96",
          "opacity": 0.7,
          "size": 12,
          "symbol": "circle"
         },
         "mode": "markers",
         "name": "devstral:24b-small-2505-q8_0",
         "orientation": "v",
         "showlegend": true,
         "type": "scatter",
         "x": {
          "bdata": "3nGKjuRyKkA=",
          "dtype": "f8"
         },
         "xaxis": "x",
         "y": {
          "bdata": "ufyH9Nu/TEA=",
          "dtype": "f8"
         },
         "yaxis": "y"
        },
        {
         "hovertemplate": "<b>%{hovertext}</b><br><br>Model=dolphin3:8b-llama3.1-fp16<br>Average time[s]=%{x}<br>Average tokens/s=%{y}<extra></extra>",
         "hovertext": [
          "dolphin3:8b-llama3.1-fp16"
         ],
         "legendgroup": "dolphin3:8b-llama3.1-fp16",
         "marker": {
          "color": "#ab63fa",
          "opacity": 0.7,
          "size": 12,
          "symbol": "circle"
         },
         "mode": "markers",
         "name": "dolphin3:8b-llama3.1-fp16",
         "orientation": "v",
         "showlegend": true,
         "type": "scatter",
         "x": {
          "bdata": "zhlR2ht8C0A=",
          "dtype": "f8"
         },
         "xaxis": "x",
         "y": {
          "bdata": "AJF++zpUX0A=",
          "dtype": "f8"
         },
         "yaxis": "y"
        },
        {
         "hovertemplate": "<b>%{hovertext}</b><br><br>Model=dolphin3:8b-llama3.1-q8_0<br>Average time[s]=%{x}<br>Average tokens/s=%{y}<extra></extra>",
         "hovertext": [
          "dolphin3:8b-llama3.1-q8_0"
         ],
         "legendgroup": "dolphin3:8b-llama3.1-q8_0",
         "marker": {
          "color": "#FFA15A",
          "opacity": 0.7,
          "size": 12,
          "symbol": "circle"
         },
         "mode": "markers",
         "name": "dolphin3:8b-llama3.1-q8_0",
         "orientation": "v",
         "showlegend": true,
         "type": "scatter",
         "x": {
          "bdata": "OUVHcvmPAkA=",
          "dtype": "f8"
         },
         "xaxis": "x",
         "y": {
          "bdata": "2ht8YTLVZEA=",
          "dtype": "f8"
         },
         "yaxis": "y"
        },
        {
         "hovertemplate": "<b>%{hovertext}</b><br><br>Model=gemma3:27b<br>Average time[s]=%{x}<br>Average tokens/s=%{y}<extra></extra>",
         "hovertext": [
          "gemma3:27b"
         ],
         "legendgroup": "gemma3:27b",
         "marker": {
          "color": "#19d3f3",
          "opacity": 0.7,
          "size": 12,
          "symbol": "circle"
         },
         "mode": "markers",
         "name": "gemma3:27b",
         "orientation": "v",
         "showlegend": true,
         "type": "scatter",
         "x": {
          "bdata": "m1Wfq63IPkA=",
          "dtype": "f8"
         },
         "xaxis": "x",
         "y": {
          "bdata": "qz5XW7FfREA=",
          "dtype": "f8"
         },
         "yaxis": "y"
        },
        {
         "hovertemplate": "<b>%{hovertext}</b><br><br>Model=hermes3:70b<br>Average time[s]=%{x}<br>Average tokens/s=%{y}<extra></extra>",
         "hovertext": [
          "hermes3:70b"
         ],
         "legendgroup": "hermes3:70b",
         "marker": {
          "color": "#FF6692",
          "opacity": 0.7,
          "size": 12,
          "symbol": "circle"
         },
         "mode": "markers",
         "name": "hermes3:70b",
         "orientation": "v",
         "showlegend": true,
         "type": "scatter",
         "x": {
          "bdata": "mN2Th4UyNEA=",
          "dtype": "f8"
         },
         "xaxis": "x",
         "y": {
          "bdata": "hjjWxW3kOEA=",
          "dtype": "f8"
         },
         "yaxis": "y"
        },
        {
         "hovertemplate": "<b>%{hovertext}</b><br><br>Model=hermes3:70b-llama3.1-fp16<br>Average time[s]=%{x}<br>Average tokens/s=%{y}<extra></extra>",
         "hovertext": [
          "hermes3:70b-llama3.1-fp16"
         ],
         "legendgroup": "hermes3:70b-llama3.1-fp16",
         "marker": {
          "color": "#B6E880",
          "opacity": 0.7,
          "size": 12,
          "symbol": "circle"
         },
         "mode": "markers",
         "name": "hermes3:70b-llama3.1-fp16",
         "orientation": "v",
         "showlegend": true,
         "type": "scatter",
         "x": {
          "bdata": "gCbChqfPPEA=",
          "dtype": "f8"
         },
         "xaxis": "x",
         "y": {
          "bdata": "liGOdXGjM0A=",
          "dtype": "f8"
         },
         "yaxis": "y"
        },
        {
         "hovertemplate": "<b>%{hovertext}</b><br><br>Model=hermes3:70b-llama3.1-q8_0<br>Average time[s]=%{x}<br>Average tokens/s=%{y}<extra></extra>",
         "hovertext": [
          "hermes3:70b-llama3.1-q8_0"
         ],
         "legendgroup": "hermes3:70b-llama3.1-q8_0",
         "marker": {
          "color": "#FF97FF",
          "opacity": 0.7,
          "size": 12,
          "symbol": "circle"
         },
         "mode": "markers",
         "name": "hermes3:70b-llama3.1-q8_0",
         "orientation": "v",
         "showlegend": true,
         "type": "scatter",
         "x": {
          "bdata": "AAAAAAAAMkA=",
          "dtype": "f8"
         },
         "xaxis": "x",
         "y": {
          "bdata": "AAAAAAAAO0A=",
          "dtype": "f8"
         },
         "yaxis": "y"
        },
        {
         "hovertemplate": "<b>%{hovertext}</b><br><br>Model=hermes3:8b<br>Average time[s]=%{x}<br>Average tokens/s=%{y}<extra></extra>",
         "hovertext": [
          "hermes3:8b"
         ],
         "legendgroup": "hermes3:8b",
         "marker": {
          "color": "#FECB52",
          "opacity": 0.7,
          "size": 12,
          "symbol": "circle"
         },
         "mode": "markers",
         "name": "hermes3:8b",
         "orientation": "v",
         "showlegend": true,
         "type": "scatter",
         "x": {
          "bdata": "UPwYc9cSDUA=",
          "dtype": "f8"
         },
         "xaxis": "x",
         "y": {
          "bdata": "6Ugu/yFZZ0A=",
          "dtype": "f8"
         },
         "yaxis": "y"
        },
        {
         "hovertemplate": "<b>%{hovertext}</b><br><br>Model=magistral:24b-small-2506-fp16<br>Average time[s]=%{x}<br>Average tokens/s=%{y}<extra></extra>",
         "hovertext": [
          "magistral:24b-small-2506-fp16"
         ],
         "legendgroup": "magistral:24b-small-2506-fp16",
         "marker": {
          "color": "#636efa",
          "opacity": 0.7,
          "size": 12,
          "symbol": "circle"
         },
         "mode": "markers",
         "name": "magistral:24b-small-2506-fp16",
         "orientation": "v",
         "showlegend": true,
         "type": "scatter",
         "x": {
          "bdata": "AAAAAABAS0A=",
          "dtype": "f8"
         },
         "xaxis": "x",
         "y": {
          "bdata": "AAAAAADARUA=",
          "dtype": "f8"
         },
         "yaxis": "y"
        },
        {
         "hovertemplate": "<b>%{hovertext}</b><br><br>Model=magistral:24b-small-2506-q8_0<br>Average time[s]=%{x}<br>Average tokens/s=%{y}<extra></extra>",
         "hovertext": [
          "magistral:24b-small-2506-q8_0"
         ],
         "legendgroup": "magistral:24b-small-2506-q8_0",
         "marker": {
          "color": "#EF553B",
          "opacity": 0.7,
          "size": 12,
          "symbol": "circle"
         },
         "mode": "markers",
         "name": "magistral:24b-small-2506-q8_0",
         "orientation": "v",
         "showlegend": true,
         "type": "scatter",
         "x": {
          "bdata": "iIVa07xXSEA=",
          "dtype": "f8"
         },
         "xaxis": "x",
         "y": {
          "bdata": "fmq8dJO8TkA=",
          "dtype": "f8"
         },
         "yaxis": "y"
        },
        {
         "hovertemplate": "<b>%{hovertext}</b><br><br>Model=mistral-small:24b-instruct-2501-fp16<br>Average time[s]=%{x}<br>Average tokens/s=%{y}<extra></extra>",
         "hovertext": [
          "mistral-small:24b-instruct-2501-fp16"
         ],
         "legendgroup": "mistral-small:24b-instruct-2501-fp16",
         "marker": {
          "color": "#00cc96",
          "opacity": 0.7,
          "size": 12,
          "symbol": "circle"
         },
         "mode": "markers",
         "name": "mistral-small:24b-instruct-2501-fp16",
         "orientation": "v",
         "showlegend": true,
         "type": "scatter",
         "x": {
          "bdata": "fq62Yn/JKkA=",
          "dtype": "f8"
         },
         "xaxis": "x",
         "y": {
          "bdata": "uB6F61HcRkA=",
          "dtype": "f8"
         },
         "yaxis": "y"
        },
        {
         "hovertemplate": "<b>%{hovertext}</b><br><br>Model=mixtral:8x7b<br>Average time[s]=%{x}<br>Average tokens/s=%{y}<extra></extra>",
         "hovertext": [
          "mixtral:8x7b"
         ],
         "legendgroup": "mixtral:8x7b",
         "marker": {
          "color": "#ab63fa",
          "opacity": 0.7,
          "size": 12,
          "symbol": "circle"
         },
         "mode": "markers",
         "name": "mixtral:8x7b",
         "orientation": "v",
         "showlegend": true,
         "type": "scatter",
         "x": {
          "bdata": "AAAAAAAAGEA=",
          "dtype": "f8"
         },
         "xaxis": "x",
         "y": {
          "bdata": "AAAAAAAAWUA=",
          "dtype": "f8"
         },
         "yaxis": "y"
        },
        {
         "hovertemplate": "<b>%{hovertext}</b><br><br>Model=mixtral:8x7b-instruct-v0.1-q8_0<br>Average time[s]=%{x}<br>Average tokens/s=%{y}<extra></extra>",
         "hovertext": [
          "mixtral:8x7b-instruct-v0.1-q8_0"
         ],
         "legendgroup": "mixtral:8x7b-instruct-v0.1-q8_0",
         "marker": {
          "color": "#FFA15A",
          "opacity": 0.7,
          "size": 12,
          "symbol": "circle"
         },
         "mode": "markers",
         "name": "mixtral:8x7b-instruct-v0.1-q8_0",
         "orientation": "v",
         "showlegend": true,
         "type": "scatter",
         "x": {
          "bdata": "KO0NvjBpIEA=",
          "dtype": "f8"
         },
         "xaxis": "x",
         "y": {
          "bdata": "6Nms+lwzVkA=",
          "dtype": "f8"
         },
         "yaxis": "y"
        },
        {
         "hovertemplate": "<b>%{hovertext}</b><br><br>Model=mixtral:v0.1<br>Average time[s]=%{x}<br>Average tokens/s=%{y}<extra></extra>",
         "hovertext": [
          "mixtral:v0.1"
         ],
         "legendgroup": "mixtral:v0.1",
         "marker": {
          "color": "#19d3f3",
          "opacity": 0.7,
          "size": 12,
          "symbol": "circle"
         },
         "mode": "markers",
         "name": "mixtral:v0.1",
         "orientation": "v",
         "showlegend": true,
         "type": "scatter",
         "x": {
          "bdata": "RpT2Bl84IkA=",
          "dtype": "f8"
         },
         "xaxis": "x",
         "y": {
          "bdata": "4umVsgyBTEA=",
          "dtype": "f8"
         },
         "yaxis": "y"
        },
        {
         "hovertemplate": "<b>%{hovertext}</b><br><br>Model=nhn-large:latest<br>Average time[s]=%{x}<br>Average tokens/s=%{y}<extra></extra>",
         "hovertext": [
          "nhn-large:latest"
         ],
         "legendgroup": "nhn-large:latest",
         "marker": {
          "color": "#FF6692",
          "opacity": 0.7,
          "size": 12,
          "symbol": "circle"
         },
         "mode": "markers",
         "name": "nhn-large:latest",
         "orientation": "v",
         "showlegend": true,
         "type": "scatter",
         "x": {
          "bdata": "AAAAAACARUA=",
          "dtype": "f8"
         },
         "xaxis": "x",
         "y": {
          "bdata": "AAAAAACAPkA=",
          "dtype": "f8"
         },
         "yaxis": "y"
        },
        {
         "hovertemplate": "<b>%{hovertext}</b><br><br>Model=nhn-medium:latest<br>Average time[s]=%{x}<br>Average tokens/s=%{y}<extra></extra>",
         "hovertext": [
          "nhn-medium:latest"
         ],
         "legendgroup": "nhn-medium:latest",
         "marker": {
          "color": "#B6E880",
          "opacity": 0.7,
          "size": 12,
          "symbol": "circle"
         },
         "mode": "markers",
         "name": "nhn-medium:latest",
         "orientation": "v",
         "showlegend": true,
         "type": "scatter",
         "x": {
          "bdata": "AAAAAAAAMEA=",
          "dtype": "f8"
         },
         "xaxis": "x",
         "y": {
          "bdata": "AAAAAACARUA=",
          "dtype": "f8"
         },
         "yaxis": "y"
        },
        {
         "hovertemplate": "<b>%{hovertext}</b><br><br>Model=nhn-small:latest<br>Average time[s]=%{x}<br>Average tokens/s=%{y}<extra></extra>",
         "hovertext": [
          "nhn-small:latest"
         ],
         "legendgroup": "nhn-small:latest",
         "marker": {
          "color": "#FF97FF",
          "opacity": 0.7,
          "size": 12,
          "symbol": "circle"
         },
         "mode": "markers",
         "name": "nhn-small:latest",
         "orientation": "v",
         "showlegend": true,
         "type": "scatter",
         "x": {
          "bdata": "tFqvS8lRNEA=",
          "dtype": "f8"
         },
         "xaxis": "x",
         "y": {
          "bdata": "+Z7zjw3mUkA=",
          "dtype": "f8"
         },
         "yaxis": "y"
        },
        {
         "hovertemplate": "<b>%{hovertext}</b><br><br>Model=qwen2.5-coder:32b-instruct-fp16<br>Average time[s]=%{x}<br>Average tokens/s=%{y}<extra></extra>",
         "hovertext": [
          "qwen2.5-coder:32b-instruct-fp16"
         ],
         "legendgroup": "qwen2.5-coder:32b-instruct-fp16",
         "marker": {
          "color": "#FECB52",
          "opacity": 0.7,
          "size": 12,
          "symbol": "circle"
         },
         "mode": "markers",
         "name": "qwen2.5-coder:32b-instruct-fp16",
         "orientation": "v",
         "showlegend": true,
         "type": "scatter",
         "x": {
          "bdata": "5/h7PAd5OEA=",
          "dtype": "f8"
         },
         "xaxis": "x",
         "y": {
          "bdata": "/9emnvLlPkA=",
          "dtype": "f8"
         },
         "yaxis": "y"
        },
        {
         "hovertemplate": "<b>%{hovertext}</b><br><br>Model=qwen3-coder:30b-a3b-fp16<br>Average time[s]=%{x}<br>Average tokens/s=%{y}<extra></extra>",
         "hovertext": [
          "qwen3-coder:30b-a3b-fp16"
         ],
         "legendgroup": "qwen3-coder:30b-a3b-fp16",
         "marker": {
          "color": "#636efa",
          "opacity": 0.7,
          "size": 12,
          "symbol": "circle"
         },
         "mode": "markers",
         "name": "qwen3-coder:30b-a3b-fp16",
         "orientation": "v",
         "showlegend": true,
         "type": "scatter",
         "x": {
          "bdata": "q6qqqqqqM0A=",
          "dtype": "f8"
         },
         "xaxis": "x",
         "y": {
          "bdata": "VVVVVVVVWUA=",
          "dtype": "f8"
         },
         "yaxis": "y"
        },
        {
         "hovertemplate": "<b>%{hovertext}</b><br><br>Model=qwen3-coder:30b-a3b-q4_K_M<br>Average time[s]=%{x}<br>Average tokens/s=%{y}<extra></extra>",
         "hovertext": [
          "qwen3-coder:30b-a3b-q4_K_M"
         ],
         "legendgroup": "qwen3-coder:30b-a3b-q4_K_M",
         "marker": {
          "color": "#EF553B",
          "opacity": 0.7,
          "size": 12,
          "symbol": "circle"
         },
         "mode": "markers",
         "name": "qwen3-coder:30b-a3b-q4_K_M",
         "orientation": "v",
         "showlegend": true,
         "type": "scatter",
         "x": {
          "bdata": "q6qqqqqqGkA=",
          "dtype": "f8"
         },
         "xaxis": "x",
         "y": {
          "bdata": "q6qqqqoqXUA=",
          "dtype": "f8"
         },
         "yaxis": "y"
        },
        {
         "hovertemplate": "<b>%{hovertext}</b><br><br>Model=qwen3-coder:30b-a3b-q8_0<br>Average time[s]=%{x}<br>Average tokens/s=%{y}<extra></extra>",
         "hovertext": [
          "qwen3-coder:30b-a3b-q8_0"
         ],
         "legendgroup": "qwen3-coder:30b-a3b-q8_0",
         "marker": {
          "color": "#00cc96",
          "opacity": 0.7,
          "size": 12,
          "symbol": "circle"
         },
         "mode": "markers",
         "name": "qwen3-coder:30b-a3b-q8_0",
         "orientation": "v",
         "showlegend": true,
         "type": "scatter",
         "x": {
          "bdata": "VVVVVVVVK0A=",
          "dtype": "f8"
         },
         "xaxis": "x",
         "y": {
          "bdata": "q6qqqqoqV0A=",
          "dtype": "f8"
         },
         "yaxis": "y"
        },
        {
         "hovertemplate": "<b>%{hovertext}</b><br><br>Model=qwen3:1.7b-fp16<br>Average time[s]=%{x}<br>Average tokens/s=%{y}<extra></extra>",
         "hovertext": [
          "qwen3:1.7b-fp16"
         ],
         "legendgroup": "qwen3:1.7b-fp16",
         "marker": {
          "color": "#ab63fa",
          "opacity": 0.7,
          "size": 12,
          "symbol": "circle"
         },
         "mode": "markers",
         "name": "qwen3:1.7b-fp16",
         "orientation": "v",
         "showlegend": true,
         "type": "scatter",
         "x": {
          "bdata": "z/dT46WbK0A=",
          "dtype": "f8"
         },
         "xaxis": "x",
         "y": {
          "bdata": "GJXUCWigcEA=",
          "dtype": "f8"
         },
         "yaxis": "y"
        },
        {
         "hovertemplate": "<b>%{hovertext}</b><br><br>Model=qwen3:1.7b-q8_0<br>Average time[s]=%{x}<br>Average tokens/s=%{y}<extra></extra>",
         "hovertext": [
          "qwen3:1.7b-q8_0"
         ],
         "legendgroup": "qwen3:1.7b-q8_0",
         "marker": {
          "color": "#FFA15A",
          "opacity": 0.7,
          "size": 12,
          "symbol": "circle"
         },
         "mode": "markers",
         "name": "qwen3:1.7b-q8_0",
         "orientation": "v",
         "showlegend": true,
         "type": "scatter",
         "x": {
          "bdata": "AAAAAAAAJUA=",
          "dtype": "f8"
         },
         "xaxis": "x",
         "y": {
          "bdata": "AAAAAAAgbEA=",
          "dtype": "f8"
         },
         "yaxis": "y"
        },
        {
         "hovertemplate": "<b>%{hovertext}</b><br><br>Model=qwen3:30b-a3b-fp16<br>Average time[s]=%{x}<br>Average tokens/s=%{y}<extra></extra>",
         "hovertext": [
          "qwen3:30b-a3b-fp16"
         ],
         "legendgroup": "qwen3:30b-a3b-fp16",
         "marker": {
          "color": "#19d3f3",
          "opacity": 0.7,
          "size": 12,
          "symbol": "circle"
         },
         "mode": "markers",
         "name": "qwen3:30b-a3b-fp16",
         "orientation": "v",
         "showlegend": true,
         "type": "scatter",
         "x": {
          "bdata": "AAAAAACATEA=",
          "dtype": "f8"
         },
         "xaxis": "x",
         "y": {
          "bdata": "AAAAAACgWUA=",
          "dtype": "f8"
         },
         "yaxis": "y"
        },
        {
         "hovertemplate": "<b>%{hovertext}</b><br><br>Model=qwen3:32b-fp16<br>Average time[s]=%{x}<br>Average tokens/s=%{y}<extra></extra>",
         "hovertext": [
          "qwen3:32b-fp16"
         ],
         "legendgroup": "qwen3:32b-fp16",
         "marker": {
          "color": "#FF6692",
          "opacity": 0.7,
          "size": 12,
          "symbol": "circle"
         },
         "mode": "markers",
         "name": "qwen3:32b-fp16",
         "orientation": "v",
         "showlegend": true,
         "type": "scatter",
         "x": {
          "bdata": "AAAAAAAATEA=",
          "dtype": "f8"
         },
         "xaxis": "x",
         "y": {
          "bdata": "AAAAAABAQEA=",
          "dtype": "f8"
         },
         "yaxis": "y"
        }
       ],
       "layout": {
        "legend": {
         "title": {
          "text": "Model"
         },
         "tracegroupgap": 0
        },
        "margin": {
         "t": 60
        },
        "template": {
         "data": {
          "bar": [
           {
            "error_x": {
             "color": "#2a3f5f"
            },
            "error_y": {
             "color": "#2a3f5f"
            },
            "marker": {
             "line": {
              "color": "#E5ECF6",
              "width": 0.5
             },
             "pattern": {
              "fillmode": "overlay",
              "size": 10,
              "solidity": 0.2
             }
            },
            "type": "bar"
           }
          ],
          "barpolar": [
           {
            "marker": {
             "line": {
              "color": "#E5ECF6",
              "width": 0.5
             },
             "pattern": {
              "fillmode": "overlay",
              "size": 10,
              "solidity": 0.2
             }
            },
            "type": "barpolar"
           }
          ],
          "carpet": [
           {
            "aaxis": {
             "endlinecolor": "#2a3f5f",
             "gridcolor": "white",
             "linecolor": "white",
             "minorgridcolor": "white",
             "startlinecolor": "#2a3f5f"
            },
            "baxis": {
             "endlinecolor": "#2a3f5f",
             "gridcolor": "white",
             "linecolor": "white",
             "minorgridcolor": "white",
             "startlinecolor": "#2a3f5f"
            },
            "type": "carpet"
           }
          ],
          "choropleth": [
           {
            "colorbar": {
             "outlinewidth": 0,
             "ticks": ""
            },
            "type": "choropleth"
           }
          ],
          "contour": [
           {
            "colorbar": {
             "outlinewidth": 0,
             "ticks": ""
            },
            "colorscale": [
             [
              0,
              "#0d0887"
             ],
             [
              0.1111111111111111,
              "#46039f"
             ],
             [
              0.2222222222222222,
              "#7201a8"
             ],
             [
              0.3333333333333333,
              "#9c179e"
             ],
             [
              0.4444444444444444,
              "#bd3786"
             ],
             [
              0.5555555555555556,
              "#d8576b"
             ],
             [
              0.6666666666666666,
              "#ed7953"
             ],
             [
              0.7777777777777778,
              "#fb9f3a"
             ],
             [
              0.8888888888888888,
              "#fdca26"
             ],
             [
              1,
              "#f0f921"
             ]
            ],
            "type": "contour"
           }
          ],
          "contourcarpet": [
           {
            "colorbar": {
             "outlinewidth": 0,
             "ticks": ""
            },
            "type": "contourcarpet"
           }
          ],
          "heatmap": [
           {
            "colorbar": {
             "outlinewidth": 0,
             "ticks": ""
            },
            "colorscale": [
             [
              0,
              "#0d0887"
             ],
             [
              0.1111111111111111,
              "#46039f"
             ],
             [
              0.2222222222222222,
              "#7201a8"
             ],
             [
              0.3333333333333333,
              "#9c179e"
             ],
             [
              0.4444444444444444,
              "#bd3786"
             ],
             [
              0.5555555555555556,
              "#d8576b"
             ],
             [
              0.6666666666666666,
              "#ed7953"
             ],
             [
              0.7777777777777778,
              "#fb9f3a"
             ],
             [
              0.8888888888888888,
              "#fdca26"
             ],
             [
              1,
              "#f0f921"
             ]
            ],
            "type": "heatmap"
           }
          ],
          "histogram": [
           {
            "marker": {
             "pattern": {
              "fillmode": "overlay",
              "size": 10,
              "solidity": 0.2
             }
            },
            "type": "histogram"
           }
          ],
          "histogram2d": [
           {
            "colorbar": {
             "outlinewidth": 0,
             "ticks": ""
            },
            "colorscale": [
             [
              0,
              "#0d0887"
             ],
             [
              0.1111111111111111,
              "#46039f"
             ],
             [
              0.2222222222222222,
              "#7201a8"
             ],
             [
              0.3333333333333333,
              "#9c179e"
             ],
             [
              0.4444444444444444,
              "#bd3786"
             ],
             [
              0.5555555555555556,
              "#d8576b"
             ],
             [
              0.6666666666666666,
              "#ed7953"
             ],
             [
              0.7777777777777778,
              "#fb9f3a"
             ],
             [
              0.8888888888888888,
              "#fdca26"
             ],
             [
              1,
              "#f0f921"
             ]
            ],
            "type": "histogram2d"
           }
          ],
          "histogram2dcontour": [
           {
            "colorbar": {
             "outlinewidth": 0,
             "ticks": ""
            },
            "colorscale": [
             [
              0,
              "#0d0887"
             ],
             [
              0.1111111111111111,
              "#46039f"
             ],
             [
              0.2222222222222222,
              "#7201a8"
             ],
             [
              0.3333333333333333,
              "#9c179e"
             ],
             [
              0.4444444444444444,
              "#bd3786"
             ],
             [
              0.5555555555555556,
              "#d8576b"
             ],
             [
              0.6666666666666666,
              "#ed7953"
             ],
             [
              0.7777777777777778,
              "#fb9f3a"
             ],
             [
              0.8888888888888888,
              "#fdca26"
             ],
             [
              1,
              "#f0f921"
             ]
            ],
            "type": "histogram2dcontour"
           }
          ],
          "mesh3d": [
           {
            "colorbar": {
             "outlinewidth": 0,
             "ticks": ""
            },
            "type": "mesh3d"
           }
          ],
          "parcoords": [
           {
            "line": {
             "colorbar": {
              "outlinewidth": 0,
              "ticks": ""
             }
            },
            "type": "parcoords"
           }
          ],
          "pie": [
           {
            "automargin": true,
            "type": "pie"
           }
          ],
          "scatter": [
           {
            "fillpattern": {
             "fillmode": "overlay",
             "size": 10,
             "solidity": 0.2
            },
            "type": "scatter"
           }
          ],
          "scatter3d": [
           {
            "line": {
             "colorbar": {
              "outlinewidth": 0,
              "ticks": ""
             }
            },
            "marker": {
             "colorbar": {
              "outlinewidth": 0,
              "ticks": ""
             }
            },
            "type": "scatter3d"
           }
          ],
          "scattercarpet": [
           {
            "marker": {
             "colorbar": {
              "outlinewidth": 0,
              "ticks": ""
             }
            },
            "type": "scattercarpet"
           }
          ],
          "scattergeo": [
           {
            "marker": {
             "colorbar": {
              "outlinewidth": 0,
              "ticks": ""
             }
            },
            "type": "scattergeo"
           }
          ],
          "scattergl": [
           {
            "marker": {
             "colorbar": {
              "outlinewidth": 0,
              "ticks": ""
             }
            },
            "type": "scattergl"
           }
          ],
          "scattermap": [
           {
            "marker": {
             "colorbar": {
              "outlinewidth": 0,
              "ticks": ""
             }
            },
            "type": "scattermap"
           }
          ],
          "scattermapbox": [
           {
            "marker": {
             "colorbar": {
              "outlinewidth": 0,
              "ticks": ""
             }
            },
            "type": "scattermapbox"
           }
          ],
          "scatterpolar": [
           {
            "marker": {
             "colorbar": {
              "outlinewidth": 0,
              "ticks": ""
             }
            },
            "type": "scatterpolar"
           }
          ],
          "scatterpolargl": [
           {
            "marker": {
             "colorbar": {
              "outlinewidth": 0,
              "ticks": ""
             }
            },
            "type": "scatterpolargl"
           }
          ],
          "scatterternary": [
           {
            "marker": {
             "colorbar": {
              "outlinewidth": 0,
              "ticks": ""
             }
            },
            "type": "scatterternary"
           }
          ],
          "surface": [
           {
            "colorbar": {
             "outlinewidth": 0,
             "ticks": ""
            },
            "colorscale": [
             [
              0,
              "#0d0887"
             ],
             [
              0.1111111111111111,
              "#46039f"
             ],
             [
              0.2222222222222222,
              "#7201a8"
             ],
             [
              0.3333333333333333,
              "#9c179e"
             ],
             [
              0.4444444444444444,
              "#bd3786"
             ],
             [
              0.5555555555555556,
              "#d8576b"
             ],
             [
              0.6666666666666666,
              "#ed7953"
             ],
             [
              0.7777777777777778,
              "#fb9f3a"
             ],
             [
              0.8888888888888888,
              "#fdca26"
             ],
             [
              1,
              "#f0f921"
             ]
            ],
            "type": "surface"
           }
          ],
          "table": [
           {
            "cells": {
             "fill": {
              "color": "#EBF0F8"
             },
             "line": {
              "color": "white"
             }
            },
            "header": {
             "fill": {
              "color": "#C8D4E3"
             },
             "line": {
              "color": "white"
             }
            },
            "type": "table"
           }
          ]
         },
         "layout": {
          "annotationdefaults": {
           "arrowcolor": "#2a3f5f",
           "arrowhead": 0,
           "arrowwidth": 1
          },
          "autotypenumbers": "strict",
          "coloraxis": {
           "colorbar": {
            "outlinewidth": 0,
            "ticks": ""
           }
          },
          "colorscale": {
           "diverging": [
            [
             0,
             "#8e0152"
            ],
            [
             0.1,
             "#c51b7d"
            ],
            [
             0.2,
             "#de77ae"
            ],
            [
             0.3,
             "#f1b6da"
            ],
            [
             0.4,
             "#fde0ef"
            ],
            [
             0.5,
             "#f7f7f7"
            ],
            [
             0.6,
             "#e6f5d0"
            ],
            [
             0.7,
             "#b8e186"
            ],
            [
             0.8,
             "#7fbc41"
            ],
            [
             0.9,
             "#4d9221"
            ],
            [
             1,
             "#276419"
            ]
           ],
           "sequential": [
            [
             0,
             "#0d0887"
            ],
            [
             0.1111111111111111,
             "#46039f"
            ],
            [
             0.2222222222222222,
             "#7201a8"
            ],
            [
             0.3333333333333333,
             "#9c179e"
            ],
            [
             0.4444444444444444,
             "#bd3786"
            ],
            [
             0.5555555555555556,
             "#d8576b"
            ],
            [
             0.6666666666666666,
             "#ed7953"
            ],
            [
             0.7777777777777778,
             "#fb9f3a"
            ],
            [
             0.8888888888888888,
             "#fdca26"
            ],
            [
             1,
             "#f0f921"
            ]
           ],
           "sequentialminus": [
            [
             0,
             "#0d0887"
            ],
            [
             0.1111111111111111,
             "#46039f"
            ],
            [
             0.2222222222222222,
             "#7201a8"
            ],
            [
             0.3333333333333333,
             "#9c179e"
            ],
            [
             0.4444444444444444,
             "#bd3786"
            ],
            [
             0.5555555555555556,
             "#d8576b"
            ],
            [
             0.6666666666666666,
             "#ed7953"
            ],
            [
             0.7777777777777778,
             "#fb9f3a"
            ],
            [
             0.8888888888888888,
             "#fdca26"
            ],
            [
             1,
             "#f0f921"
            ]
           ]
          },
          "colorway": [
           "#636efa",
           "#EF553B",
           "#00cc96",
           "#ab63fa",
           "#FFA15A",
           "#19d3f3",
           "#FF6692",
           "#B6E880",
           "#FF97FF",
           "#FECB52"
          ],
          "font": {
           "color": "#2a3f5f"
          },
          "geo": {
           "bgcolor": "white",
           "lakecolor": "white",
           "landcolor": "#E5ECF6",
           "showlakes": true,
           "showland": true,
           "subunitcolor": "white"
          },
          "hoverlabel": {
           "align": "left"
          },
          "hovermode": "closest",
          "mapbox": {
           "style": "light"
          },
          "paper_bgcolor": "white",
          "plot_bgcolor": "#E5ECF6",
          "polar": {
           "angularaxis": {
            "gridcolor": "white",
            "linecolor": "white",
            "ticks": ""
           },
           "bgcolor": "#E5ECF6",
           "radialaxis": {
            "gridcolor": "white",
            "linecolor": "white",
            "ticks": ""
           }
          },
          "scene": {
           "xaxis": {
            "backgroundcolor": "#E5ECF6",
            "gridcolor": "white",
            "gridwidth": 2,
            "linecolor": "white",
            "showbackground": true,
            "ticks": "",
            "zerolinecolor": "white"
           },
           "yaxis": {
            "backgroundcolor": "#E5ECF6",
            "gridcolor": "white",
            "gridwidth": 2,
            "linecolor": "white",
            "showbackground": true,
            "ticks": "",
            "zerolinecolor": "white"
           },
           "zaxis": {
            "backgroundcolor": "#E5ECF6",
            "gridcolor": "white",
            "gridwidth": 2,
            "linecolor": "white",
            "showbackground": true,
            "ticks": "",
            "zerolinecolor": "white"
           }
          },
          "shapedefaults": {
           "line": {
            "color": "#2a3f5f"
           }
          },
          "ternary": {
           "aaxis": {
            "gridcolor": "white",
            "linecolor": "white",
            "ticks": ""
           },
           "baxis": {
            "gridcolor": "white",
            "linecolor": "white",
            "ticks": ""
           },
           "bgcolor": "#E5ECF6",
           "caxis": {
            "gridcolor": "white",
            "linecolor": "white",
            "ticks": ""
           }
          },
          "title": {
           "x": 0.05
          },
          "xaxis": {
           "automargin": true,
           "gridcolor": "white",
           "linecolor": "white",
           "ticks": "",
           "title": {
            "standoff": 15
           },
           "zerolinecolor": "white",
           "zerolinewidth": 2
          },
          "yaxis": {
           "automargin": true,
           "gridcolor": "white",
           "linecolor": "white",
           "ticks": "",
           "title": {
            "standoff": 15
           },
           "zerolinecolor": "white",
           "zerolinewidth": 2
          }
         }
        },
        "xaxis": {
         "anchor": "y",
         "domain": [
          0,
          1
         ],
         "title": {
          "text": "Average time[s]"
         }
        },
        "yaxis": {
         "anchor": "x",
         "domain": [
          0,
          1
         ],
         "title": {
          "text": "Average tokens/s"
         }
        }
       }
      }
     },
     "metadata": {},
     "output_type": "display_data"
    }
   ],
   "source": [
    "# Plot of Average Time[s] and Average Tokens/s\n",
    "\n",
    "fig = px.scatter(\n",
    "    averaged_df,\n",
    "    x='Average time[s]',\n",
    "    y='Average tokens/s',\n",
    "    hover_name='Model',\n",
    "    color='Model',\n",
    ")\n",
    "fig.update_traces(marker=dict(size=12, opacity=0.7))\n",
    "fig.show()\n",
    "fig.write_html('results/avg_time_tokens.html')"
   ]
  },
  {
   "cell_type": "code",
   "execution_count": 20,
   "id": "84a1efdd",
   "metadata": {},
   "outputs": [
    {
     "data": {
      "image/png": "[encoded data removed]",
      "text/plain": [
       "<Figure size 1000x600 with 1 Axes>"
      ]
     },
     "metadata": {},
     "output_type": "display_data"
    }
   ],
   "source": [
    "fig, ax = plt.subplots(figsize=(10, 6))\n",
    "ax.scatter(\n",
    "    averaged_df['Average time[s]'],\n",
    "    averaged_df['Average tokens/s'],\n",
    "    s=100, alpha=0.6\n",
    ")\n",
    "\n",
    "for i, row in averaged_df.iterrows():\n",
    "    ax.text(\n",
    "        row['Average time[s]'],\n",
    "        row['Average tokens/s'],\n",
    "        row['Model'],\n",
    "        fontsize=8,\n",
    "        alpha=0.6\n",
    "    )\n",
    "\n",
    "ax.set_xlabel('Average time [s]')\n",
    "ax.set_ylabel('Average tokens/s')\n",
    "plt.tight_layout()\n",
    "plt.show()\n"
   ]
  }
 ],
 "metadata": {
  "kernelspec": {
   "display_name": "Python 3",
   "language": "python",
   "name": "python3"
  },
  "language_info": {
   "codemirror_mode": {
    "name": "ipython",
    "version": 3
   },
   "file_extension": ".py",
   "mimetype": "text/x-python",
   "name": "python",
   "nbconvert_exporter": "python",
   "pygments_lexer": "ipython3",
   "version": "3.12.10"
  }
 },
 "nbformat": 4,
 "nbformat_minor": 5
}
