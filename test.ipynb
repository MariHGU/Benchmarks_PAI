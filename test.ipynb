{
 "cells": [
  {
   "cell_type": "code",
   "execution_count": null,
   "id": "9d7ac5ac",
   "metadata": {},
   "outputs": [
    {
     "name": "stdout",
     "output_type": "stream",
     "text": [
      "0                         nhn-small:latest\n",
      "1                        nhn-medium:latest\n",
      "2                         nhn-large:latest\n",
      "3            magistral:24b-small-2506-q8_0\n",
      "4            magistral:24b-small-2506-fp16\n",
      "5                               gemma3:27b\n",
      "6             devstral:24b-small-2505-q8_0\n",
      "7             devstral:24b-small-2505-fp16\n",
      "8                          qwen3:1.7b-fp16\n",
      "9                          qwen3:1.7b-q8_0\n",
      "10                      qwen3:30b-a3b-fp16\n",
      "11                          qwen3:32b-fp16\n",
      "12         qwen2.5-coder:32b-instruct-fp16\n",
      "13                           codeqwen:chat\n",
      "14       deepseek-r1:32b-qwen-distill-fp16\n",
      "15      deepseek-r1:70b-llama-distill-q8_0\n",
      "16               dolphin3:8b-llama3.1-fp16\n",
      "17               dolphin3:8b-llama3.1-q8_0\n",
      "18                            mixtral:v0.1\n",
      "19                            mixtral:8x7b\n",
      "20         mixtral:8x7b-instruct-v0.1-q8_0\n",
      "21    mistral-small:24b-instruct-2501-fp16\n",
      "22                              hermes3:8b\n",
      "23                             hermes3:70b\n",
      "24               hermes3:70b-llama3.1-fp16\n",
      "25               hermes3:70b-llama3.1-q8_0\n",
      "26         cogito:32b-v1-preview-qwen-fp16\n",
      "27                              cogito:14b\n",
      "28        cogito:70b-v1-preview-llama-q8_0\n",
      "Name: model_name, dtype: object\n"
     ]
    }
   ],
   "source": [
    "import pandas as pd\n",
    "\n",
    "result_df = pd.read_csv(r'results/results.csv')['model']\n",
    "models_df = pd.read_csv(r'models.csv')['model_name']\n",
    "\n",
    "# Assuming models_df and results_df have been loaded earlier in the notebook or script\n",
    "print(models_df)\n",
    "models = models_df.replace(':', '-')  # Process model identifiers if necessary\n",
    "result_models = result_df.replace(':', '-')  # Ensure consistent formatting\n",
    "\n",
    "# Find models that are in models.csv but not in results.csv\n",
    "not_tested = models[~models.isin(result_models)]\n",
    "\n",
    "#print(not_tested)"
   ]
  },
  {
   "cell_type": "code",
   "execution_count": null,
   "id": "87b3ec7f",
   "metadata": {},
   "outputs": [],
   "source": [
    "print(models)"
   ]
  }
 ],
 "metadata": {
  "kernelspec": {
   "display_name": "Python 3",
   "language": "python",
   "name": "python3"
  },
  "language_info": {
   "codemirror_mode": {
    "name": "ipython",
    "version": 3
   },
   "file_extension": ".py",
   "mimetype": "text/x-python",
   "name": "python",
   "nbconvert_exporter": "python",
   "pygments_lexer": "ipython3",
   "version": "3.12.10"
  }
 },
 "nbformat": 4,
 "nbformat_minor": 5
}
