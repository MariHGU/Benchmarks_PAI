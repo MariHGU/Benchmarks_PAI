{
 "cells": [
  {
   "cell_type": "code",
   "execution_count": null,
   "id": "9d7ac5ac",
   "metadata": {},
   "outputs": [
    {
     "name": "stdout",
     "output_type": "stream",
     "text": [
      "Modeller som ikke er testet:\n",
      "4        magistral-24b-small-2506-fp16\n",
      "9                      qwen3-1.7b-q8_0\n",
      "10                  qwen3-30b-a3b-fp16\n",
      "11                      qwen3-32b-fp16\n",
      "19                        mixtral-8x7b\n",
      "25           hermes3-70b-llama3.1-q8_0\n",
      "28    cogito-70b-v1-preview-llama-q8_0\n",
      "Name: model_name, dtype: object\n"
     ]
    }
   ],
   "source": [
    "import pandas as pd\n",
    "\n",
    "result_df = pd.read_csv(r'results/results.csv')['model']\n",
    "models_df = pd.read_csv(r'models.csv')['model_name']\n",
    "\n",
    "# Konverter til string og formatér modellenavnene til samme format\n",
    "def process_models(models):\n",
    "    return models.astype(str).str.replace(':', '-')\n",
    "\n",
    "processed_models = process_models(models_df)\n",
    "processed_results = process_models(result_df)\n",
    "\n",
    "# Finn modeller som er i models.csv men ikke i results.csv\n",
    "not_tested = processed_models[~processed_models.isin(processed_results)]\n",
    "\n",
    "print(\"Modeller som ikke er testet:\")\n",
    "print(not_tested)"
   ]
  }
 ],
 "metadata": {
  "kernelspec": {
   "display_name": "Python 3",
   "language": "python",
   "name": "python3"
  },
  "language_info": {
   "codemirror_mode": {
    "name": "ipython",
    "version": 3
   },
   "file_extension": ".py",
   "mimetype": "text/x-python",
   "name": "python",
   "nbconvert_exporter": "python",
   "pygments_lexer": "ipython3",
   "version": "3.12.10"
  }
 },
 "nbformat": 4,
 "nbformat_minor": 5
}
